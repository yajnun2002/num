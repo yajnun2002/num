{
 "cells": [
  {
   "cell_type": "markdown",
   "metadata": {},
   "source": []
  },
  {
   "cell_type": "code",
   "execution_count": 1,
   "metadata": {},
   "outputs": [],
   "source": [
    "class Args:\n",
    "    pass\n",
    "filepath = \"./args/reGPT.pkl\"\n",
    "import pickle\n",
    "with open(filepath,\"rb\") as file:\n",
    "    args = pickle.load(file)"
   ]
  },
  {
   "cell_type": "code",
   "execution_count": 2,
   "metadata": {},
   "outputs": [],
   "source": [
    "import pandas as pd\n",
    "import numpy as np\n",
    "import torch\n",
    "import my_token as T\n",
    "import matplotlib.pyplot as plt\n",
    "def read_model(filename):\n",
    "    import torch\n",
    "    model = args.model(args)\n",
    "    #display(torch.load(filename).keys())\n",
    "    model.load_state_dict( torch.load(filename))\n",
    "    model.eval()\n",
    "    return model\n"
   ]
  },
  {
   "cell_type": "code",
   "execution_count": 3,
   "metadata": {},
   "outputs": [],
   "source": [
    "def build_dataset(filename,n=1000):\n",
    "    import pandas as pd\n",
    "    import my_token as T\n",
    "    df = pd.read_csv(filename)[:n]\n",
    "    dataset = args.dataset(df = df,maxlen = args.maxlen , vocab_size = args.vocab)\n",
    "    return dataset"
   ]
  },
  {
   "cell_type": "code",
   "execution_count": 4,
   "metadata": {},
   "outputs": [
    {
     "name": "stdout",
     "output_type": "stream",
     "text": [
      "<2+4:=6>                                                                                            \n",
      "    =6>                                                                                             \n"
     ]
    }
   ],
   "source": [
    "from my_token import ArithmeticDataset\n",
    "import pandas as pd\n",
    "dataset = ArithmeticDataset(df = pd.read_csv(\"./data/train.csv\"),maxlen = 100 , vocab_size = 64)\n",
    "from my_token import to_sentence\n",
    "x,y = dataset[0]\n",
    "print(to_sentence(x))\n",
    "print(to_sentence(y))"
   ]
  },
  {
   "cell_type": "code",
   "execution_count": 5,
   "metadata": {},
   "outputs": [
    {
     "data": {
      "text/plain": [
       "'dataset = build_dataset(\"./data/len7.csv\")\\nimport random\\nidx = random.randint( 0,len(dataset)-1 )\\nx , y , pe = dataset[idx]\\nx = x[None , :]\\nfrom my_token import to_sentence\\nprint(\"equals:\" , dataset.equals[idx])\\nprint(\"x :\" , to_sentence(x[0]))\\nprint(\"y :\" , to_sentence(y))\\nprint(\"pe:\" , to_sentence(pe))'"
      ]
     },
     "execution_count": 5,
     "metadata": {},
     "output_type": "execute_result"
    }
   ],
   "source": [
    "\"\"\"dataset = build_dataset(\"./data/len7.csv\")\n",
    "import random\n",
    "idx = random.randint( 0,len(dataset)-1 )\n",
    "x , y , pe = dataset[idx]\n",
    "x = x[None , :]\n",
    "from my_token import to_sentence\n",
    "print(\"equals:\" , dataset.equals[idx])\n",
    "print(\"x :\" , to_sentence(x[0]))\n",
    "print(\"y :\" , to_sentence(y))\n",
    "print(\"pe:\" , to_sentence(pe))\"\"\""
   ]
  },
  {
   "cell_type": "code",
   "execution_count": 6,
   "metadata": {},
   "outputs": [],
   "source": [
    "def eval(model,dataset,batch_size=args.batch_size,mask = None):\n",
    "    model = model.cuda()\n",
    "    model.eval()\n",
    "    import torch\n",
    "    from tqdm import tqdm\n",
    "    import my_token as T\n",
    "    from my_token import to_sentence\n",
    "    from torch.utils.data.dataloader import DataLoader\n",
    "    loader = DataLoader(dataset , batch_size,num_workers=0,drop_last=False,shuffle=True)\n",
    "    pbar = tqdm(loader)\n",
    "    true_cnt = 0\n",
    "    cnt = 0\n",
    "    import numpy as np\n",
    "    lst = []\n",
    "    c_t = 0\n",
    "    global acc\n",
    "    with torch.no_grad():\n",
    "        for _,(x,y) in enumerate(pbar):\n",
    "            x, y  = x.cuda(), y.long().cuda() \n",
    "            mask = y==0\n",
    "            pred = torch.argmax( model(x,mask) ,dim = -1)\n",
    "            pred[ y==0 ] = 0\n",
    "            c_t += torch.sum((pred == y).to(\"cpu\").all(1))\n",
    "            true_cnt += torch.sum((pred == y) & (y != 0)).item()\n",
    "            cnt += torch.sum(y != 0  ).item()\n",
    "    #print(\"full match\",int(c_t))\n",
    "    global all_acc\n",
    "    all_acc = int(c_t) / len(dataset)\n",
    "    # 计算并打印准确率\n",
    "    if cnt!=0:\n",
    "        accuracy = true_cnt / cnt\n",
    "        acc = accuracy\n",
    "        #print(f'Accuracy: {accuracy * 100:.2f}%')\n",
    "    return all_acc"
   ]
  },
  {
   "cell_type": "code",
   "execution_count": 7,
   "metadata": {},
   "outputs": [],
   "source": [
    "\n",
    "import copy\n",
    "\n",
    "def show(model,dataset):\n",
    "    import random\n",
    "    idx = random.randint( 0,len(dataset)-1 )\n",
    "    model = model.cpu()\n",
    "    x , y   = dataset[idx]\n",
    "    x = x[None , :]\n",
    "    logits = model(x)[0]\n",
    "    pred = torch.argmax( logits ,dim = -1)\n",
    "    from my_token import to_sentence\n",
    "    pred[y==0] = 0\n",
    "    print(str((y==pred).all(0).item()))\n",
    "    print(\"x : \" , to_sentence(x[0]))\n",
    "    print(\"y :\" , to_sentence(y))\n",
    "    print(\"pr:\",to_sentence(pred))\n",
    "    print(\"w :\",\"\".join([ \" \" if b else \"w\"  for b in (y==pred).tolist()]))\n",
    "    "
   ]
  },
  {
   "cell_type": "code",
   "execution_count": 8,
   "metadata": {},
   "outputs": [],
   "source": [
    "def eval_epoch(filename):\n",
    "    dataset = build_dataset(filename,n=2000)\n",
    "    li = []\n",
    "    for filename in args.output_list: \n",
    "        model = read_model(filename)\n",
    "        li.append( eval(model=model,dataset=dataset,batch_size=args.batch_size))\n",
    "    return li"
   ]
  },
  {
   "cell_type": "code",
   "execution_count": 9,
   "metadata": {},
   "outputs": [
    {
     "data": {
      "text/plain": [
       "'\\nargs.batch_size = 100\\ntrain_acc = eval_epoch(args.file_path)\\nplt.plot( range(len(train_acc)) ,train_acc ,label = \"test\" )\\nfor i in range(5,9):\\n    test_acc = eval_epoch( f\"./data/test/len{i}.csv\")\\n    plt.plot(range(len(test_acc)),test_acc,label = f\"len{i}\")\\n\\nplt.title(args.name)\\nplt.legend()\\nplt.show()    '"
      ]
     },
     "execution_count": 9,
     "metadata": {},
     "output_type": "execute_result"
    }
   ],
   "source": [
    "\"\"\"\n",
    "args.batch_size = 100\n",
    "train_acc = eval_epoch(args.file_path)\n",
    "plt.plot( range(len(train_acc)) ,train_acc ,label = \"test\" )\n",
    "for i in range(5,9):\n",
    "    test_acc = eval_epoch( f\"./data/test/len{i}.csv\")\n",
    "    plt.plot(range(len(test_acc)),test_acc,label = f\"len{i}\")\n",
    "\n",
    "plt.title(args.name)\n",
    "plt.legend()\n",
    "plt.show()    \"\"\""
   ]
  },
  {
   "cell_type": "code",
   "execution_count": 10,
   "metadata": {},
   "outputs": [
    {
     "name": "stderr",
     "output_type": "stream",
     "text": [
      "100%|██████████| 20/20 [00:02<00:00,  8.51it/s]\n",
      "100%|██████████| 20/20 [00:02<00:00,  9.14it/s]\n",
      "100%|██████████| 20/20 [00:02<00:00,  9.11it/s]\n",
      "100%|██████████| 20/20 [00:02<00:00,  9.05it/s]\n",
      "100%|██████████| 20/20 [00:02<00:00,  8.94it/s]\n",
      "100%|██████████| 20/20 [00:02<00:00,  9.18it/s]\n",
      "100%|██████████| 20/20 [00:01<00:00, 11.13it/s]\n",
      "100%|██████████| 20/20 [00:01<00:00, 11.32it/s]\n",
      "100%|██████████| 20/20 [00:01<00:00, 11.32it/s]\n",
      "100%|██████████| 20/20 [00:01<00:00, 11.36it/s]\n",
      "100%|██████████| 10/10 [00:00<00:00, 11.13it/s]\n",
      "100%|██████████| 10/10 [00:00<00:00, 11.27it/s]\n",
      "100%|██████████| 10/10 [00:00<00:00, 11.25it/s]\n",
      "100%|██████████| 10/10 [00:00<00:00, 11.12it/s]\n",
      "100%|██████████| 10/10 [00:00<00:00, 11.24it/s]\n",
      "100%|██████████| 10/10 [00:00<00:00, 11.03it/s]\n",
      "100%|██████████| 10/10 [00:00<00:00, 11.06it/s]\n",
      "100%|██████████| 10/10 [00:00<00:00, 10.98it/s]\n",
      "100%|██████████| 10/10 [00:00<00:00, 11.19it/s]\n",
      "100%|██████████| 10/10 [00:00<00:00, 11.09it/s]\n",
      "100%|██████████| 10/10 [00:00<00:00, 10.92it/s]\n",
      "100%|██████████| 10/10 [00:00<00:00, 11.12it/s]\n",
      "100%|██████████| 10/10 [00:00<00:00, 10.88it/s]\n",
      "100%|██████████| 10/10 [00:00<00:00, 11.09it/s]\n",
      "100%|██████████| 10/10 [00:00<00:00, 10.81it/s]\n",
      "100%|██████████| 10/10 [00:00<00:00, 10.67it/s]\n",
      "100%|██████████| 10/10 [00:00<00:00, 10.66it/s]\n",
      "100%|██████████| 10/10 [00:01<00:00,  8.91it/s]\n",
      "100%|██████████| 10/10 [00:00<00:00, 10.82it/s]\n",
      "100%|██████████| 10/10 [00:00<00:00, 10.55it/s]\n",
      "100%|██████████| 10/10 [00:00<00:00, 10.44it/s]\n",
      "100%|██████████| 10/10 [00:00<00:00, 10.35it/s]\n",
      "100%|██████████| 10/10 [00:00<00:00, 10.32it/s]\n",
      "100%|██████████| 10/10 [00:00<00:00, 10.50it/s]\n",
      "100%|██████████| 10/10 [00:00<00:00, 10.27it/s]\n",
      "100%|██████████| 10/10 [00:01<00:00,  9.47it/s]\n",
      "100%|██████████| 10/10 [00:00<00:00, 10.55it/s]\n",
      "100%|██████████| 10/10 [00:00<00:00, 10.46it/s]\n",
      "100%|██████████| 10/10 [00:00<00:00, 10.52it/s]\n",
      "100%|██████████| 10/10 [00:00<00:00, 10.74it/s]\n",
      "100%|██████████| 10/10 [00:00<00:00, 10.53it/s]\n",
      "100%|██████████| 10/10 [00:00<00:00, 10.82it/s]\n",
      "100%|██████████| 10/10 [00:00<00:00, 10.27it/s]\n",
      "100%|██████████| 10/10 [00:00<00:00, 10.40it/s]\n",
      "100%|██████████| 10/10 [00:00<00:00, 10.42it/s]\n",
      "100%|██████████| 10/10 [00:00<00:00, 10.21it/s]\n",
      "100%|██████████| 10/10 [00:00<00:00, 10.52it/s]\n",
      "100%|██████████| 10/10 [00:00<00:00, 10.50it/s]\n",
      "100%|██████████| 10/10 [00:00<00:00, 10.26it/s]\n",
      "100%|██████████| 10/10 [00:00<00:00, 10.48it/s]\n",
      "100%|██████████| 10/10 [00:01<00:00,  8.62it/s]\n",
      "100%|██████████| 10/10 [00:01<00:00,  8.52it/s]\n",
      "100%|██████████| 10/10 [00:01<00:00,  8.62it/s]\n",
      "100%|██████████| 10/10 [00:01<00:00,  8.57it/s]\n",
      "100%|██████████| 10/10 [00:01<00:00,  8.67it/s]\n",
      "100%|██████████| 10/10 [00:01<00:00,  8.62it/s]\n",
      "100%|██████████| 10/10 [00:01<00:00,  8.61it/s]\n",
      "100%|██████████| 10/10 [00:01<00:00,  8.59it/s]\n",
      "100%|██████████| 10/10 [00:01<00:00,  8.51it/s]\n",
      "100%|██████████| 10/10 [00:01<00:00,  9.60it/s]\n",
      "100%|██████████| 10/10 [00:01<00:00,  9.85it/s]\n",
      "100%|██████████| 10/10 [00:01<00:00,  9.88it/s]\n",
      "100%|██████████| 10/10 [00:01<00:00,  9.83it/s]\n",
      "100%|██████████| 10/10 [00:01<00:00,  9.73it/s]\n",
      "100%|██████████| 10/10 [00:01<00:00,  9.93it/s]\n",
      "100%|██████████| 10/10 [00:01<00:00,  9.79it/s]\n",
      "100%|██████████| 10/10 [00:01<00:00,  9.88it/s]\n",
      "100%|██████████| 10/10 [00:01<00:00,  9.89it/s]\n",
      "100%|██████████| 10/10 [00:01<00:00,  9.93it/s]\n",
      "100%|██████████| 10/10 [00:01<00:00,  9.75it/s]\n",
      "100%|██████████| 10/10 [00:01<00:00,  9.76it/s]\n",
      "100%|██████████| 10/10 [00:01<00:00,  9.82it/s]\n",
      "100%|██████████| 10/10 [00:01<00:00,  9.79it/s]\n",
      "100%|██████████| 10/10 [00:01<00:00,  9.89it/s]\n",
      "100%|██████████| 10/10 [00:01<00:00,  9.91it/s]\n",
      "100%|██████████| 10/10 [00:01<00:00,  9.97it/s]\n",
      "100%|██████████| 10/10 [00:01<00:00,  9.86it/s]\n",
      "100%|██████████| 10/10 [00:01<00:00,  9.92it/s]\n",
      "100%|██████████| 10/10 [00:01<00:00,  9.85it/s]\n",
      "100%|██████████| 10/10 [00:01<00:00,  9.95it/s]\n",
      "100%|██████████| 10/10 [00:01<00:00,  9.76it/s]\n",
      "100%|██████████| 10/10 [00:01<00:00,  9.73it/s]\n",
      "100%|██████████| 10/10 [00:01<00:00,  9.18it/s]\n",
      "100%|██████████| 10/10 [00:01<00:00,  9.32it/s]\n",
      "100%|██████████| 10/10 [00:01<00:00,  9.17it/s]\n",
      "100%|██████████| 10/10 [00:01<00:00,  9.88it/s]\n",
      "100%|██████████| 10/10 [00:01<00:00,  8.65it/s]\n",
      "100%|██████████| 10/10 [00:01<00:00,  9.65it/s]\n",
      "100%|██████████| 10/10 [00:01<00:00,  9.41it/s]\n",
      "100%|██████████| 10/10 [00:01<00:00,  8.78it/s]\n",
      "100%|██████████| 10/10 [00:01<00:00,  8.86it/s]\n",
      "100%|██████████| 10/10 [00:01<00:00,  9.07it/s]\n",
      "100%|██████████| 10/10 [00:01<00:00,  8.09it/s]\n",
      "100%|██████████| 10/10 [00:01<00:00,  8.27it/s]\n",
      "100%|██████████| 10/10 [00:01<00:00,  8.21it/s]\n",
      "100%|██████████| 10/10 [00:01<00:00,  8.13it/s]\n",
      "100%|██████████| 10/10 [00:01<00:00,  8.51it/s]\n",
      "100%|██████████| 10/10 [00:01<00:00,  8.21it/s]\n",
      "100%|██████████| 10/10 [00:01<00:00,  8.39it/s]\n",
      "100%|██████████| 10/10 [00:01<00:00,  8.10it/s]\n",
      "100%|██████████| 10/10 [00:01<00:00,  8.25it/s]\n",
      "100%|██████████| 10/10 [00:01<00:00,  8.46it/s]\n",
      "100%|██████████| 10/10 [00:01<00:00,  8.06it/s]\n",
      "100%|██████████| 10/10 [00:01<00:00,  8.14it/s]\n",
      "100%|██████████| 10/10 [00:01<00:00,  8.08it/s]\n",
      "100%|██████████| 10/10 [00:01<00:00,  8.08it/s]\n",
      "100%|██████████| 10/10 [00:01<00:00,  8.12it/s]\n",
      "100%|██████████| 10/10 [00:01<00:00,  8.26it/s]\n",
      "100%|██████████| 10/10 [00:01<00:00,  8.06it/s]\n",
      "100%|██████████| 10/10 [00:01<00:00,  8.03it/s]\n",
      "100%|██████████| 10/10 [00:01<00:00,  8.11it/s]\n",
      "100%|██████████| 10/10 [00:01<00:00,  8.18it/s]\n",
      "100%|██████████| 10/10 [00:01<00:00,  8.05it/s]\n",
      "100%|██████████| 10/10 [00:01<00:00,  8.05it/s]\n",
      "100%|██████████| 10/10 [00:01<00:00,  8.11it/s]\n",
      "100%|██████████| 10/10 [00:01<00:00,  8.14it/s]\n",
      "100%|██████████| 10/10 [00:01<00:00,  8.11it/s]\n",
      "100%|██████████| 10/10 [00:01<00:00,  8.14it/s]\n",
      "100%|██████████| 10/10 [00:01<00:00,  8.48it/s]\n",
      "100%|██████████| 10/10 [00:01<00:00,  8.08it/s]\n"
     ]
    },
    {
     "data": {
      "image/png": "[encoded data removed]",
      "text/plain": [
       "<Figure size 640x480 with 1 Axes>"
      ]
     },
     "metadata": {},
     "output_type": "display_data"
    }
   ],
   "source": [
    "\n",
    "args.batch_size = 100\n",
    "train_acc = eval_epoch(args.file_path)\n",
    "plt.plot( range(len(train_acc)) ,train_acc ,label = \"test\" )\n",
    "for i in range(10,21):\n",
    "    test_acc = eval_epoch( f\"./data/test/len{i}.csv\")\n",
    "    plt.plot(range(len(test_acc)),test_acc,label = f\"len{i}\")\n",
    "\n",
    "plt.title(args.name)\n",
    "plt.legend()\n",
    "plt.show()    "
   ]
  },
  {
   "cell_type": "code",
   "execution_count": null,
   "metadata": {},
   "outputs": [
    {
     "ename": "AttributeError",
     "evalue": "'reGPT' object has no attribute 'position_embedding'",
     "output_type": "error",
     "traceback": [
      "\u001b[1;31m---------------------------------------------------------------------------\u001b[0m",
      "\u001b[1;31mAttributeError\u001b[0m                            Traceback (most recent call last)",
      "Cell \u001b[1;32mIn[11], line 3\u001b[0m\n\u001b[0;32m      1\u001b[0m model \u001b[38;5;241m=\u001b[39m read_model(\u001b[38;5;124mf\u001b[39m\u001b[38;5;124m\"\u001b[39m\u001b[38;5;132;01m{\u001b[39;00margs\u001b[38;5;241m.\u001b[39moutput_dir\u001b[38;5;132;01m}\u001b[39;00m\u001b[38;5;124m/epoch_100.pt\u001b[39m\u001b[38;5;124m\"\u001b[39m)\n\u001b[0;32m      2\u001b[0m model\u001b[38;5;241m.\u001b[39meval()\n\u001b[1;32m----> 3\u001b[0m \u001b[43mmodel\u001b[49m\u001b[38;5;241;43m.\u001b[39;49m\u001b[43mposition_embedding\u001b[49m\u001b[38;5;241m.\u001b[39mdevice \u001b[38;5;241m=\u001b[39m \u001b[38;5;124m\"\u001b[39m\u001b[38;5;124mcpu\u001b[39m\u001b[38;5;124m\"\u001b[39m\n\u001b[0;32m      4\u001b[0m emb \u001b[38;5;241m=\u001b[39m model\u001b[38;5;241m.\u001b[39mposition_embedding\u001b[38;5;241m.\u001b[39mgenerate(batch_size \u001b[38;5;241m=\u001b[39m \u001b[38;5;241m1\u001b[39m , maxlen \u001b[38;5;241m=\u001b[39m \u001b[38;5;241m100\u001b[39m)[\u001b[38;5;241m0\u001b[39m]\n\u001b[0;32m      5\u001b[0m A \u001b[38;5;241m=\u001b[39m emb \u001b[38;5;241m@\u001b[39m emb\u001b[38;5;241m.\u001b[39mT  \n",
      "File \u001b[1;32m~\\AppData\\Local\\Packages\\PythonSoftwareFoundation.Python.3.9_qbz5n2kfra8p0\\LocalCache\\local-packages\\Python39\\site-packages\\torch\\nn\\modules\\module.py:1695\u001b[0m, in \u001b[0;36mModule.__getattr__\u001b[1;34m(self, name)\u001b[0m\n\u001b[0;32m   1693\u001b[0m     \u001b[38;5;28;01mif\u001b[39;00m name \u001b[38;5;129;01min\u001b[39;00m modules:\n\u001b[0;32m   1694\u001b[0m         \u001b[38;5;28;01mreturn\u001b[39;00m modules[name]\n\u001b[1;32m-> 1695\u001b[0m \u001b[38;5;28;01mraise\u001b[39;00m \u001b[38;5;167;01mAttributeError\u001b[39;00m(\u001b[38;5;124mf\u001b[39m\u001b[38;5;124m\"\u001b[39m\u001b[38;5;124m'\u001b[39m\u001b[38;5;132;01m{\u001b[39;00m\u001b[38;5;28mtype\u001b[39m(\u001b[38;5;28mself\u001b[39m)\u001b[38;5;241m.\u001b[39m\u001b[38;5;18m__name__\u001b[39m\u001b[38;5;132;01m}\u001b[39;00m\u001b[38;5;124m'\u001b[39m\u001b[38;5;124m object has no attribute \u001b[39m\u001b[38;5;124m'\u001b[39m\u001b[38;5;132;01m{\u001b[39;00mname\u001b[38;5;132;01m}\u001b[39;00m\u001b[38;5;124m'\u001b[39m\u001b[38;5;124m\"\u001b[39m)\n",
      "\u001b[1;31mAttributeError\u001b[0m: 'reGPT' object has no attribute 'position_embedding'"
     ]
    },
    {
     "ename": "",
     "evalue": "",
     "output_type": "error",
     "traceback": [
      "\u001b[1;31mThe Kernel crashed while executing code in the current cell or a previous cell. \n",
      "\u001b[1;31mPlease review the code in the cell(s) to identify a possible cause of the failure. \n",
      "\u001b[1;31mClick <a href='https://aka.ms/vscodeJupyterKernelCrash'>here</a> for more info. \n",
      "\u001b[1;31mView Jupyter <a href='command:jupyter.viewOutput'>log</a> for further details."
     ]
    }
   ],
   "source": [
    "model = read_model(f\"{args.output_dir}/epoch_100.pt\")\n",
    "model.eval()\n",
    "model.position_embedding.device = \"cpu\"\n",
    "emb = model.position_embedding.generate(batch_size = 1 , maxlen = 100)[0]\n",
    "A = emb @ emb.T  \n",
    "display(A)\n",
    "plt.imshow( A.detach(),cmap=\"hot\")\n",
    "plt.colorbar()\n"
   ]
  },
  {
   "cell_type": "code",
   "execution_count": null,
   "metadata": {},
   "outputs": [],
   "source": [
    "filename = f\"{args.output_dir}/epoch_{100}.pt\"\n",
    "model = read_model(filename)\n",
    "dataset = build_dataset(\"./data/test/len10.csv\",n=1000)\n",
    "model.position_embedding.emb.device = \"cpu\"\n",
    "model.segment_embedding.emb.device = \"cpu\""
   ]
  },
  {
   "cell_type": "code",
   "execution_count": null,
   "metadata": {},
   "outputs": [
    {
     "name": "stdout",
     "output_type": "stream",
     "text": [
      "False\n",
      "x :  (1-9+2+1/2)/(0/(6*2)-(4+1)*1)=(3+2+1/2)/(0/(6*2)-(4+1)*1)=(5+1/2)/(0/(6*2)-(4+1)*1)=(5+6)/(0/(6*2)-(4+1)*1)=0/(0/(6*2)-(\n",
      "y :                              (3+2+1/2)/(0/(6*2)-(4+1)*1)=(5+1/2)/(0/(6*2)-(4+1)*1)=(5+6)/(0/(6*2)-(4+1)*1)=0/(0/(6*2)-( \n",
      "pr:                              (3+2+1/2)/(0/(4*2)-(4+1)*1)=(5+1/2-/(0/(4*2)-(4+1)=1)=(5+6)/(0/(4*2)-(4+1)=1)=0/(0/(6*2)-( \n",
      "w :                                            w                   w     w         w             w         w                \n"
     ]
    }
   ],
   "source": [
    "\n",
    "show(model,dataset)"
   ]
  },
  {
   "cell_type": "code",
   "execution_count": null,
   "metadata": {},
   "outputs": [],
   "source": [
    "\n",
    "def test(model,dataset):\n",
    "    import random\n",
    "    idx = random.randint( 0,len(dataset)-1 )\n",
    "    model = model.cpu()\n",
    "    x , y   = dataset[idx]\n",
    "    x = x[None , :]\n",
    "    logits = model(x)[0]\n",
    "    pred = torch.argmax( logits ,dim = -1)\n",
    "    from my_token import to_sentence\n",
    "    pred[y==0] = 0\n",
    "    print(str((y==pred).all(0).item()))\n",
    "    print(\"x :\" , to_sentence(x[0]))\n",
    "    print(\"y :\" , to_sentence(y))\n",
    "    print(\"pr:\",to_sentence(pred))\n",
    "    print(\"w :\",\"\".join([ \" \" if b else \"w\"  for b in (y==pred).tolist()]))\n"
   ]
  },
  {
   "cell_type": "code",
   "execution_count": null,
   "metadata": {},
   "outputs": [
    {
     "ename": "TypeError",
     "evalue": "object of type 'function' has no len()",
     "output_type": "error",
     "traceback": [
      "\u001b[1;31m---------------------------------------------------------------------------\u001b[0m",
      "\u001b[1;31mTypeError\u001b[0m                                 Traceback (most recent call last)",
      "Cell \u001b[1;32mIn[15], line 1\u001b[0m\n\u001b[1;32m----> 1\u001b[0m \u001b[43mtest\u001b[49m\u001b[43m(\u001b[49m\u001b[43mmodel\u001b[49m\u001b[43m,\u001b[49m\u001b[43mdataset\u001b[49m\u001b[43m)\u001b[49m\n",
      "Cell \u001b[1;32mIn[14], line 3\u001b[0m, in \u001b[0;36mtest\u001b[1;34m(model, dataset)\u001b[0m\n\u001b[0;32m      1\u001b[0m \u001b[38;5;28;01mdef\u001b[39;00m \u001b[38;5;21mtest\u001b[39m(model,dataset):\n\u001b[0;32m      2\u001b[0m     \u001b[38;5;28;01mimport\u001b[39;00m \u001b[38;5;21;01mrandom\u001b[39;00m\n\u001b[1;32m----> 3\u001b[0m     idx \u001b[38;5;241m=\u001b[39m random\u001b[38;5;241m.\u001b[39mrandint( \u001b[38;5;241m0\u001b[39m,\u001b[38;5;28;43mlen\u001b[39;49m\u001b[43m(\u001b[49m\u001b[43mdataset\u001b[49m\u001b[43m)\u001b[49m\u001b[38;5;241m-\u001b[39m\u001b[38;5;241m1\u001b[39m )\n\u001b[0;32m      4\u001b[0m     model \u001b[38;5;241m=\u001b[39m model\u001b[38;5;241m.\u001b[39mcpu()\n\u001b[0;32m      5\u001b[0m     x , y   \u001b[38;5;241m=\u001b[39m dataset[idx]\n",
      "\u001b[1;31mTypeError\u001b[0m: object of type 'function' has no len()"
     ]
    }
   ],
   "source": [
    "test(model,dataset)"
   ]
  },
  {
   "cell_type": "markdown",
   "metadata": {},
   "source": []
  }
 ],
 "metadata": {
  "kernelspec": {
   "display_name": "Python 3",
   "language": "python",
   "name": "python3"
  },
  "language_info": {
   "codemirror_mode": {
    "name": "ipython",
    "version": 3
   },
   "file_extension": ".py",
   "mimetype": "text/x-python",
   "name": "python",
   "nbconvert_exporter": "python",
   "pygments_lexer": "ipython3",
   "version": "3.9.13"
  }
 },
 "nbformat": 4,
 "nbformat_minor": 2
}
