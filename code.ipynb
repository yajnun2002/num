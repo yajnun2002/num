{
 "cells": [
  {
   "cell_type": "markdown",
   "metadata": {},
   "source": []
  },
  {
   "cell_type": "code",
   "execution_count": null,
   "metadata": {},
   "outputs": [],
   "source": [
    "class Args:\n",
    "    pass\n",
    "filepath = \"./args/CLIP.pkl\"\n",
    "import pickle\n",
    "with open(filepath,\"rb\") as file:\n",
    "    args = pickle.load(file)"
   ]
  },
  {
   "cell_type": "code",
   "execution_count": 2,
   "metadata": {},
   "outputs": [],
   "source": [
    "import pandas as pd\n",
    "import numpy as np\n",
    "import torch\n",
    "import my_token as T\n",
    "import matplotlib.pyplot as plt\n",
    "def read_model(filename):\n",
    "    import torch\n",
    "    model = args.model(args)\n",
    "    #display(torch.load(filename).keys())\n",
    "    model.load_state_dict( torch.load(filename))\n",
    "    model.eval()\n",
    "    return model\n"
   ]
  },
  {
   "cell_type": "code",
   "execution_count": 3,
   "metadata": {},
   "outputs": [],
   "source": [
    "def build_dataset(filename,n=1000):\n",
    "    import pandas as pd\n",
    "    import my_token as T\n",
    "    df = pd.read_csv(filename)[:n]\n",
    "    dataset = args.dataset(df = df,maxlen = args.maxlen , vocab_size = args.vocab)\n",
    "    return dataset"
   ]
  },
  {
   "cell_type": "code",
   "execution_count": 4,
   "metadata": {},
   "outputs": [
    {
     "name": "stdout",
     "output_type": "stream",
     "text": [
      "<2*9: =7>                                                                                           \n",
      "     =7>                                                                                            \n"
     ]
    }
   ],
   "source": [
    "from my_token import ArithmeticDataset\n",
    "import pandas as pd\n",
    "dataset = ArithmeticDataset(df = pd.read_csv(\"./data/train.csv\"),maxlen = 100 , vocab_size = 64)\n",
    "from my_token import to_sentence\n",
    "x,y = dataset[0]\n",
    "print(to_sentence(x))\n",
    "print(to_sentence(y))"
   ]
  },
  {
   "cell_type": "code",
   "execution_count": 5,
   "metadata": {},
   "outputs": [
    {
     "data": {
      "text/plain": [
       "'dataset = build_dataset(\"./data/len7.csv\")\\nimport random\\nidx = random.randint( 0,len(dataset)-1 )\\nx , y , pe = dataset[idx]\\nx = x[None , :]\\nfrom my_token import to_sentence\\nprint(\"equals:\" , dataset.equals[idx])\\nprint(\"x :\" , to_sentence(x[0]))\\nprint(\"y :\" , to_sentence(y))\\nprint(\"pe:\" , to_sentence(pe))'"
      ]
     },
     "execution_count": 5,
     "metadata": {},
     "output_type": "execute_result"
    }
   ],
   "source": [
    "\"\"\"dataset = build_dataset(\"./data/len7.csv\")\n",
    "import random\n",
    "idx = random.randint( 0,len(dataset)-1 )\n",
    "x , y , pe = dataset[idx]\n",
    "x = x[None , :]\n",
    "from my_token import to_sentence\n",
    "print(\"equals:\" , dataset.equals[idx])\n",
    "print(\"x :\" , to_sentence(x[0]))\n",
    "print(\"y :\" , to_sentence(y))\n",
    "print(\"pe:\" , to_sentence(pe))\"\"\""
   ]
  },
  {
   "cell_type": "code",
   "execution_count": 6,
   "metadata": {},
   "outputs": [
    {
     "data": {
      "text/plain": [
       "'args.re_time += 3\\ndef eval_reGPT(model,dataset,batch_size=args.batch_size,mask = None):\\n    model = model.cuda()\\n    model.eval()\\n    import torch\\n    from tqdm import tqdm\\n    import my_token as T\\n    from my_token import to_sentence\\n    from torch.utils.data.dataloader import DataLoader\\n    loader = DataLoader(dataset , batch_size,num_workers=0,drop_last=False,shuffle=True)\\n    pbar = tqdm(loader)\\n    true_cnt = 0\\n    cnt = 0\\n    import numpy as np\\n    correct = np.zeros(args.re_times)\\n    with torch.no_grad():\\n        for _,(x,y) in enumerate(pbar):\\n            x, y  = x.cuda(), y.long().cuda() \\n            mask = y==0\\n            logits_list = model(x,mask) \\n            pred_list = [ torch.argmax( logits ,dim = -1) for logits in logits_list ]\\n            for pred in pred_list:\\n                pred[ y==0 ] = 0\\n            for i in range(args.re_times):\\n                correct[i] += torch.sum((pred_list[i] == y).to(\"cpu\").all(1))\\n    return correct / len(dataset)\\nmodel = read_model(\"./model/reGPT.pt\")\\nfor i in range(10,21):\\n    dataset = build_dataset(f\"./data/test/len{i}.csv\",n=2000)\\n    test_acc = eval_reGPT(model=model,dataset=dataset,batch_size=args.batch_size)\\n    plt.plot(range(len(test_acc)),test_acc,label = f\"len{i}\")'"
      ]
     },
     "execution_count": 6,
     "metadata": {},
     "output_type": "execute_result"
    }
   ],
   "source": [
    "\"\"\"args.re_time += 3\n",
    "def eval_reGPT(model,dataset,batch_size=args.batch_size,mask = None):\n",
    "    model = model.cuda()\n",
    "    model.eval()\n",
    "    import torch\n",
    "    from tqdm import tqdm\n",
    "    import my_token as T\n",
    "    from my_token import to_sentence\n",
    "    from torch.utils.data.dataloader import DataLoader\n",
    "    loader = DataLoader(dataset , batch_size,num_workers=0,drop_last=False,shuffle=True)\n",
    "    pbar = tqdm(loader)\n",
    "    true_cnt = 0\n",
    "    cnt = 0\n",
    "    import numpy as np\n",
    "    correct = np.zeros(args.re_times)\n",
    "    with torch.no_grad():\n",
    "        for _,(x,y) in enumerate(pbar):\n",
    "            x, y  = x.cuda(), y.long().cuda() \n",
    "            mask = y==0\n",
    "            logits_list = model(x,mask) \n",
    "            pred_list = [ torch.argmax( logits ,dim = -1) for logits in logits_list ]\n",
    "            for pred in pred_list:\n",
    "                pred[ y==0 ] = 0\n",
    "            for i in range(args.re_times):\n",
    "                correct[i] += torch.sum((pred_list[i] == y).to(\"cpu\").all(1))\n",
    "    return correct / len(dataset)\n",
    "model = read_model(\"./model/reGPT.pt\")\n",
    "for i in range(10,21):\n",
    "    dataset = build_dataset(f\"./data/test/len{i}.csv\",n=2000)\n",
    "    test_acc = eval_reGPT(model=model,dataset=dataset,batch_size=args.batch_size)\n",
    "    plt.plot(range(len(test_acc)),test_acc,label = f\"len{i}\")\"\"\""
   ]
  },
  {
   "cell_type": "code",
   "execution_count": 7,
   "metadata": {},
   "outputs": [],
   "source": [
    "def eval(model,dataset,batch_size=args.batch_size,mask = None):\n",
    "    model = model.cuda()\n",
    "    model.eval()\n",
    "    import torch\n",
    "    from tqdm import tqdm\n",
    "    import my_token as T\n",
    "    from my_token import to_sentence\n",
    "    from torch.utils.data.dataloader import DataLoader\n",
    "    loader = DataLoader(dataset , batch_size,num_workers=0,drop_last=False,shuffle=True)\n",
    "    pbar = tqdm(loader)\n",
    "    true_cnt = 0\n",
    "    cnt = 0\n",
    "    import numpy as np\n",
    "    lst = []\n",
    "    c_t = 0\n",
    "    global acc\n",
    "    with torch.no_grad():\n",
    "        for _,(x,y) in enumerate(pbar):\n",
    "            x, y  = x.cuda(), y.long().cuda() \n",
    "            pred = torch.argmax( model(x) ,dim = -1)\n",
    "            pred[ y==0 ] = 0\n",
    "            c_t += torch.sum((pred == y).to(\"cpu\").all(1))\n",
    "            true_cnt += torch.sum((pred == y) & (y != 0)).item()\n",
    "            cnt += torch.sum(y != 0  ).item()\n",
    "    #print(\"full match\",int(c_t))\n",
    "    global all_acc\n",
    "    all_acc = int(c_t) / len(dataset)\n",
    "    # 计算并打印准确率\n",
    "    if cnt!=0:\n",
    "        accuracy = true_cnt / cnt\n",
    "        acc = accuracy\n",
    "        #print(f'Accuracy: {accuracy * 100:.2f}%')\n",
    "    return all_acc"
   ]
  },
  {
   "cell_type": "code",
   "execution_count": 8,
   "metadata": {},
   "outputs": [],
   "source": [
    "\n",
    "import copy\n",
    "\n",
    "def show(model,dataset):\n",
    "    import random\n",
    "    idx = random.randint( 0,len(dataset)-1 )\n",
    "    model = model.cpu()\n",
    "    x , y   = dataset[idx]\n",
    "    x = x[None , :]\n",
    "    logits = model(x)[0]\n",
    "    pred = torch.argmax( logits ,dim = -1)\n",
    "    from my_token import to_sentence\n",
    "    pred[y==0] = 0\n",
    "    print(str((y==pred).all(0).item()))\n",
    "    print(\"x : \" , to_sentence(x[0]))\n",
    "    print(\"y :\" , to_sentence(y))\n",
    "    print(\"pr:\",to_sentence(pred))\n",
    "    print(\"w :\",\"\".join([ \" \" if b else \"w\"  for b in (y==pred).tolist()]))\n",
    "    "
   ]
  },
  {
   "cell_type": "code",
   "execution_count": 9,
   "metadata": {},
   "outputs": [],
   "source": [
    "def eval_epoch(filename):\n",
    "    dataset = build_dataset(filename,n=2000)\n",
    "    li = []\n",
    "    for filename in args.output_list: \n",
    "        model = read_model(filename)\n",
    "        li.append( eval(model=model,dataset=dataset,batch_size=args.batch_size))\n",
    "    return li"
   ]
  },
  {
   "cell_type": "code",
   "execution_count": 10,
   "metadata": {},
   "outputs": [
    {
     "data": {
      "text/plain": [
       "'\\nargs.batch_size = 100\\ntrain_acc = eval_epoch(args.file_path)\\nplt.plot( range(len(train_acc)) ,train_acc ,label = \"test\" )\\nfor i in range(5,9):\\n    test_acc = eval_epoch( f\"./data/test/len{i}.csv\")\\n    plt.plot(range(len(test_acc)),test_acc,label = f\"len{i}\")\\n\\nplt.title(args.name)\\nplt.legend()\\nplt.show()    '"
      ]
     },
     "execution_count": 10,
     "metadata": {},
     "output_type": "execute_result"
    }
   ],
   "source": [
    "\"\"\"\n",
    "args.batch_size = 100\n",
    "train_acc = eval_epoch(args.file_path)\n",
    "plt.plot( range(len(train_acc)) ,train_acc ,label = \"test\" )\n",
    "for i in range(5,9):\n",
    "    test_acc = eval_epoch( f\"./data/test/len{i}.csv\")\n",
    "    plt.plot(range(len(test_acc)),test_acc,label = f\"len{i}\")\n",
    "\n",
    "plt.title(args.name)\n",
    "plt.legend()\n",
    "plt.show()    \"\"\""
   ]
  },
  {
   "cell_type": "code",
   "execution_count": 11,
   "metadata": {},
   "outputs": [
    {
     "name": "stderr",
     "output_type": "stream",
     "text": [
      "100%|██████████| 20/20 [00:01<00:00, 18.24it/s]\n",
      "100%|██████████| 20/20 [00:00<00:00, 21.33it/s]\n",
      "100%|██████████| 20/20 [00:00<00:00, 21.06it/s]\n",
      "100%|██████████| 20/20 [00:00<00:00, 22.33it/s]\n",
      "100%|██████████| 20/20 [00:00<00:00, 21.44it/s]\n",
      "100%|██████████| 20/20 [00:00<00:00, 21.66it/s]\n",
      "100%|██████████| 20/20 [00:00<00:00, 21.65it/s]\n",
      "100%|██████████| 20/20 [00:00<00:00, 21.57it/s]\n",
      "100%|██████████| 20/20 [00:00<00:00, 21.51it/s]\n",
      "100%|██████████| 20/20 [00:00<00:00, 21.35it/s]\n",
      "100%|██████████| 10/10 [00:00<00:00, 21.64it/s]\n",
      "100%|██████████| 10/10 [00:00<00:00, 21.30it/s]\n",
      "100%|██████████| 10/10 [00:00<00:00, 21.30it/s]\n",
      "100%|██████████| 10/10 [00:00<00:00, 21.07it/s]\n",
      "100%|██████████| 10/10 [00:00<00:00, 21.24it/s]\n",
      "100%|██████████| 10/10 [00:00<00:00, 21.08it/s]\n",
      "100%|██████████| 10/10 [00:00<00:00, 21.11it/s]\n",
      "100%|██████████| 10/10 [00:00<00:00, 23.55it/s]\n",
      "100%|██████████| 10/10 [00:00<00:00, 23.51it/s]\n",
      "100%|██████████| 10/10 [00:00<00:00, 23.54it/s]\n",
      "100%|██████████| 10/10 [00:00<00:00, 23.71it/s]\n",
      "100%|██████████| 10/10 [00:00<00:00, 23.73it/s]\n",
      "100%|██████████| 10/10 [00:00<00:00, 23.73it/s]\n",
      "100%|██████████| 10/10 [00:00<00:00, 24.01it/s]\n",
      "100%|██████████| 10/10 [00:00<00:00, 23.74it/s]\n",
      "100%|██████████| 10/10 [00:00<00:00, 23.84it/s]\n",
      "100%|██████████| 10/10 [00:00<00:00, 22.47it/s]\n",
      "100%|██████████| 10/10 [00:00<00:00, 21.01it/s]\n",
      "100%|██████████| 10/10 [00:00<00:00, 20.94it/s]\n",
      "100%|██████████| 10/10 [00:00<00:00, 20.92it/s]\n",
      "100%|██████████| 10/10 [00:00<00:00, 20.84it/s]\n",
      "100%|██████████| 10/10 [00:00<00:00, 20.86it/s]\n",
      "100%|██████████| 10/10 [00:00<00:00, 20.81it/s]\n",
      "100%|██████████| 10/10 [00:00<00:00, 20.97it/s]\n",
      "100%|██████████| 10/10 [00:00<00:00, 20.90it/s]\n",
      "100%|██████████| 10/10 [00:00<00:00, 20.96it/s]\n",
      "100%|██████████| 10/10 [00:00<00:00, 20.86it/s]\n",
      "100%|██████████| 10/10 [00:00<00:00, 20.55it/s]\n",
      "100%|██████████| 10/10 [00:00<00:00, 21.12it/s]\n",
      "100%|██████████| 10/10 [00:00<00:00, 21.04it/s]\n",
      "100%|██████████| 10/10 [00:00<00:00, 20.92it/s]\n",
      "100%|██████████| 10/10 [00:00<00:00, 20.86it/s]\n",
      "100%|██████████| 10/10 [00:00<00:00, 21.02it/s]\n",
      "100%|██████████| 10/10 [00:00<00:00, 20.71it/s]\n",
      "100%|██████████| 10/10 [00:00<00:00, 20.89it/s]\n",
      "100%|██████████| 10/10 [00:00<00:00, 23.60it/s]\n",
      "100%|██████████| 10/10 [00:00<00:00, 23.55it/s]\n",
      "100%|██████████| 10/10 [00:00<00:00, 23.54it/s]\n",
      "100%|██████████| 10/10 [00:00<00:00, 23.43it/s]\n",
      "100%|██████████| 10/10 [00:00<00:00, 23.40it/s]\n",
      "100%|██████████| 10/10 [00:00<00:00, 23.52it/s]\n",
      "100%|██████████| 10/10 [00:00<00:00, 23.50it/s]\n",
      "100%|██████████| 10/10 [00:00<00:00, 23.50it/s]\n",
      "100%|██████████| 10/10 [00:00<00:00, 23.52it/s]\n",
      "100%|██████████| 10/10 [00:00<00:00, 23.25it/s]\n",
      "100%|██████████| 10/10 [00:00<00:00, 23.32it/s]\n",
      "100%|██████████| 10/10 [00:00<00:00, 23.43it/s]\n",
      "100%|██████████| 10/10 [00:00<00:00, 23.38it/s]\n",
      "100%|██████████| 10/10 [00:00<00:00, 23.28it/s]\n",
      "100%|██████████| 10/10 [00:00<00:00, 23.20it/s]\n",
      "100%|██████████| 10/10 [00:00<00:00, 23.02it/s]\n",
      "100%|██████████| 10/10 [00:00<00:00, 23.13it/s]\n",
      "100%|██████████| 10/10 [00:00<00:00, 23.29it/s]\n",
      "100%|██████████| 10/10 [00:00<00:00, 22.76it/s]\n",
      "100%|██████████| 10/10 [00:00<00:00, 22.98it/s]\n",
      "100%|██████████| 10/10 [00:00<00:00, 23.32it/s]\n",
      "100%|██████████| 10/10 [00:00<00:00, 23.28it/s]\n",
      "100%|██████████| 10/10 [00:00<00:00, 23.07it/s]\n",
      "100%|██████████| 10/10 [00:00<00:00, 22.59it/s]\n",
      "100%|██████████| 10/10 [00:00<00:00, 23.03it/s]\n",
      "100%|██████████| 10/10 [00:00<00:00, 23.34it/s]\n",
      "100%|██████████| 10/10 [00:00<00:00, 23.41it/s]\n",
      "100%|██████████| 10/10 [00:00<00:00, 23.19it/s]\n",
      "100%|██████████| 10/10 [00:00<00:00, 23.01it/s]\n",
      "100%|██████████| 10/10 [00:00<00:00, 23.18it/s]\n",
      "100%|██████████| 10/10 [00:00<00:00, 23.22it/s]\n",
      "100%|██████████| 10/10 [00:00<00:00, 22.74it/s]\n",
      "100%|██████████| 10/10 [00:00<00:00, 23.17it/s]\n",
      "100%|██████████| 10/10 [00:00<00:00, 22.78it/s]\n",
      "100%|██████████| 10/10 [00:00<00:00, 22.92it/s]\n",
      "100%|██████████| 10/10 [00:00<00:00, 23.26it/s]\n",
      "100%|██████████| 10/10 [00:00<00:00, 22.66it/s]\n",
      "100%|██████████| 10/10 [00:00<00:00, 22.91it/s]\n",
      "100%|██████████| 10/10 [00:00<00:00, 22.90it/s]\n",
      "100%|██████████| 10/10 [00:00<00:00, 23.24it/s]\n",
      "100%|██████████| 10/10 [00:00<00:00, 23.23it/s]\n",
      "100%|██████████| 10/10 [00:00<00:00, 23.07it/s]\n",
      "100%|██████████| 10/10 [00:00<00:00, 22.87it/s]\n",
      "100%|██████████| 10/10 [00:00<00:00, 22.97it/s]\n",
      "100%|██████████| 10/10 [00:00<00:00, 22.10it/s]\n",
      "100%|██████████| 10/10 [00:00<00:00, 23.39it/s]\n",
      "100%|██████████| 10/10 [00:00<00:00, 23.25it/s]\n",
      "100%|██████████| 10/10 [00:00<00:00, 22.88it/s]\n",
      "100%|██████████| 10/10 [00:00<00:00, 22.83it/s]\n",
      "100%|██████████| 10/10 [00:00<00:00, 23.19it/s]\n",
      "100%|██████████| 10/10 [00:00<00:00, 23.53it/s]\n",
      "100%|██████████| 10/10 [00:00<00:00, 22.80it/s]\n",
      "100%|██████████| 10/10 [00:00<00:00, 22.65it/s]\n",
      "100%|██████████| 10/10 [00:00<00:00, 22.90it/s]\n",
      "100%|██████████| 10/10 [00:00<00:00, 22.79it/s]\n",
      "100%|██████████| 10/10 [00:00<00:00, 22.92it/s]\n",
      "100%|██████████| 10/10 [00:00<00:00, 22.40it/s]\n",
      "100%|██████████| 10/10 [00:00<00:00, 23.15it/s]\n",
      "100%|██████████| 10/10 [00:00<00:00, 22.83it/s]\n",
      "100%|██████████| 10/10 [00:00<00:00, 22.98it/s]\n",
      "100%|██████████| 10/10 [00:00<00:00, 22.37it/s]\n",
      "100%|██████████| 10/10 [00:00<00:00, 22.42it/s]\n",
      "100%|██████████| 10/10 [00:00<00:00, 22.76it/s]\n",
      "100%|██████████| 10/10 [00:00<00:00, 23.06it/s]\n",
      "100%|██████████| 10/10 [00:00<00:00, 22.91it/s]\n",
      "100%|██████████| 10/10 [00:00<00:00, 22.90it/s]\n",
      "100%|██████████| 10/10 [00:00<00:00, 22.72it/s]\n",
      "100%|██████████| 10/10 [00:00<00:00, 22.78it/s]\n",
      "100%|██████████| 10/10 [00:00<00:00, 22.46it/s]\n",
      "100%|██████████| 10/10 [00:00<00:00, 22.79it/s]\n",
      "100%|██████████| 10/10 [00:00<00:00, 22.31it/s]\n",
      "100%|██████████| 10/10 [00:00<00:00, 22.89it/s]\n",
      "100%|██████████| 10/10 [00:00<00:00, 22.88it/s]\n",
      "100%|██████████| 10/10 [00:00<00:00, 22.39it/s]\n",
      "100%|██████████| 10/10 [00:00<00:00, 22.90it/s]\n",
      "100%|██████████| 10/10 [00:00<00:00, 22.68it/s]\n",
      "100%|██████████| 10/10 [00:00<00:00, 22.54it/s]\n",
      "100%|██████████| 10/10 [00:00<00:00, 23.14it/s]\n",
      "100%|██████████| 10/10 [00:00<00:00, 23.21it/s]\n",
      "100%|██████████| 10/10 [00:00<00:00, 23.02it/s]\n",
      "100%|██████████| 10/10 [00:00<00:00, 22.75it/s]\n",
      "100%|██████████| 10/10 [00:00<00:00, 22.48it/s]\n",
      "100%|██████████| 10/10 [00:00<00:00, 23.08it/s]\n",
      "100%|██████████| 10/10 [00:00<00:00, 22.65it/s]\n",
      "100%|██████████| 10/10 [00:00<00:00, 22.81it/s]\n",
      "100%|██████████| 10/10 [00:00<00:00, 22.74it/s]\n",
      "100%|██████████| 10/10 [00:00<00:00, 22.35it/s]\n",
      "100%|██████████| 10/10 [00:00<00:00, 22.46it/s]\n",
      "100%|██████████| 10/10 [00:00<00:00, 22.79it/s]\n",
      "100%|██████████| 10/10 [00:00<00:00, 22.45it/s]\n",
      "100%|██████████| 10/10 [00:00<00:00, 22.75it/s]\n",
      "100%|██████████| 10/10 [00:00<00:00, 23.08it/s]\n",
      "100%|██████████| 10/10 [00:00<00:00, 22.74it/s]\n",
      "100%|██████████| 10/10 [00:00<00:00, 22.67it/s]\n",
      "100%|██████████| 10/10 [00:00<00:00, 22.39it/s]\n",
      "100%|██████████| 10/10 [00:00<00:00, 22.48it/s]\n",
      "100%|██████████| 10/10 [00:00<00:00, 22.60it/s]\n",
      "100%|██████████| 10/10 [00:00<00:00, 22.60it/s]\n",
      "100%|██████████| 10/10 [00:00<00:00, 22.51it/s]\n",
      "100%|██████████| 10/10 [00:00<00:00, 22.54it/s]\n",
      "100%|██████████| 10/10 [00:00<00:00, 22.50it/s]\n",
      "100%|██████████| 10/10 [00:00<00:00, 22.14it/s]\n",
      "100%|██████████| 10/10 [00:00<00:00, 22.16it/s]\n",
      "100%|██████████| 10/10 [00:00<00:00, 22.49it/s]\n",
      "100%|██████████| 10/10 [00:00<00:00, 22.96it/s]\n",
      "100%|██████████| 10/10 [00:00<00:00, 22.71it/s]\n",
      "100%|██████████| 10/10 [00:00<00:00, 22.71it/s]\n",
      "100%|██████████| 10/10 [00:00<00:00, 21.71it/s]\n",
      "100%|██████████| 10/10 [00:00<00:00, 22.76it/s]\n",
      "100%|██████████| 10/10 [00:00<00:00, 22.65it/s]\n",
      "100%|██████████| 10/10 [00:00<00:00, 23.24it/s]\n",
      "100%|██████████| 10/10 [00:00<00:00, 22.87it/s]\n",
      "100%|██████████| 10/10 [00:00<00:00, 22.69it/s]\n",
      "100%|██████████| 10/10 [00:00<00:00, 22.92it/s]\n",
      "100%|██████████| 10/10 [00:00<00:00, 22.40it/s]\n",
      "100%|██████████| 10/10 [00:00<00:00, 23.01it/s]\n",
      "100%|██████████| 10/10 [00:00<00:00, 22.26it/s]\n",
      "100%|██████████| 10/10 [00:00<00:00, 22.41it/s]\n",
      "100%|██████████| 10/10 [00:00<00:00, 22.67it/s]\n",
      "100%|██████████| 10/10 [00:00<00:00, 22.07it/s]\n",
      "100%|██████████| 10/10 [00:00<00:00, 22.76it/s]\n",
      "100%|██████████| 10/10 [00:00<00:00, 22.26it/s]\n",
      "100%|██████████| 10/10 [00:00<00:00, 22.77it/s]\n",
      "100%|██████████| 10/10 [00:00<00:00, 22.10it/s]\n",
      "100%|██████████| 10/10 [00:00<00:00, 22.36it/s]\n",
      "100%|██████████| 10/10 [00:00<00:00, 22.67it/s]\n",
      "100%|██████████| 10/10 [00:00<00:00, 21.36it/s]\n",
      "100%|██████████| 10/10 [00:00<00:00, 19.23it/s]\n",
      "100%|██████████| 10/10 [00:00<00:00, 19.82it/s]\n",
      "100%|██████████| 10/10 [00:00<00:00, 22.51it/s]\n",
      "100%|██████████| 10/10 [00:00<00:00, 22.06it/s]\n",
      "100%|██████████| 10/10 [00:00<00:00, 20.89it/s]\n",
      "100%|██████████| 10/10 [00:00<00:00, 19.37it/s]\n",
      "100%|██████████| 10/10 [00:00<00:00, 19.54it/s]\n",
      "100%|██████████| 10/10 [00:00<00:00, 19.40it/s]\n",
      "100%|██████████| 10/10 [00:00<00:00, 19.32it/s]\n",
      "100%|██████████| 10/10 [00:00<00:00, 19.38it/s]\n",
      "100%|██████████| 10/10 [00:00<00:00, 19.39it/s]\n",
      "100%|██████████| 10/10 [00:00<00:00, 19.28it/s]\n",
      "100%|██████████| 10/10 [00:00<00:00, 19.32it/s]\n",
      "100%|██████████| 10/10 [00:00<00:00, 21.03it/s]\n",
      "100%|██████████| 10/10 [00:00<00:00, 21.16it/s]\n",
      "100%|██████████| 10/10 [00:00<00:00, 20.85it/s]\n",
      "100%|██████████| 10/10 [00:00<00:00, 21.20it/s]\n",
      "100%|██████████| 10/10 [00:00<00:00, 19.30it/s]\n",
      "100%|██████████| 10/10 [00:00<00:00, 21.06it/s]\n",
      "100%|██████████| 10/10 [00:00<00:00, 19.80it/s]\n",
      "100%|██████████| 10/10 [00:00<00:00, 19.64it/s]\n",
      "100%|██████████| 10/10 [00:00<00:00, 19.55it/s]\n",
      "100%|██████████| 10/10 [00:00<00:00, 22.48it/s]\n",
      "100%|██████████| 10/10 [00:00<00:00, 20.04it/s]\n",
      "100%|██████████| 10/10 [00:00<00:00, 19.44it/s]\n",
      "100%|██████████| 10/10 [00:00<00:00, 19.38it/s]\n",
      "100%|██████████| 10/10 [00:00<00:00, 19.51it/s]\n",
      "100%|██████████| 10/10 [00:00<00:00, 20.49it/s]\n",
      "100%|██████████| 10/10 [00:00<00:00, 20.41it/s]\n",
      "100%|██████████| 10/10 [00:00<00:00, 19.37it/s]\n",
      "100%|██████████| 10/10 [00:00<00:00, 19.53it/s]\n",
      "100%|██████████| 10/10 [00:00<00:00, 19.48it/s]\n",
      "100%|██████████| 10/10 [00:00<00:00, 19.31it/s]\n",
      "100%|██████████| 10/10 [00:00<00:00, 18.98it/s]\n",
      "100%|██████████| 10/10 [00:00<00:00, 19.85it/s]\n",
      "100%|██████████| 10/10 [00:00<00:00, 19.16it/s]\n",
      "100%|██████████| 10/10 [00:00<00:00, 19.29it/s]\n",
      "100%|██████████| 10/10 [00:00<00:00, 21.69it/s]\n"
     ]
    },
    {
     "data": {
      "image/png": "[encoded data removed]",
      "text/plain": [
       "<Figure size 640x480 with 1 Axes>"
      ]
     },
     "metadata": {},
     "output_type": "display_data"
    }
   ],
   "source": [
    "\n",
    "args.batch_size = 100\n",
    "train_acc = eval_epoch(args.file_path)\n",
    "plt.plot( range(len(train_acc)) ,train_acc ,label = \"test\" )\n",
    "for i in range(1,21):\n",
    "    test_acc = eval_epoch( f\"./data/test/len{i}.csv\")\n",
    "    plt.plot(range(len(test_acc)),test_acc,label = f\"len{i}\")\n",
    "\n",
    "plt.title(args.name)\n",
    "plt.legend()\n",
    "plt.show()    "
   ]
  },
  {
   "cell_type": "code",
   "execution_count": 12,
   "metadata": {},
   "outputs": [
    {
     "ename": "RuntimeError",
     "evalue": "Expected all tensors to be on the same device, but found at least two devices, cpu and cuda:0! (when checking argument for argument index in method wrapper_CUDA__index_select)",
     "output_type": "error",
     "traceback": [
      "\u001b[1;31m---------------------------------------------------------------------------\u001b[0m",
      "\u001b[1;31mRuntimeError\u001b[0m                              Traceback (most recent call last)",
      "Cell \u001b[1;32mIn[12], line 4\u001b[0m\n\u001b[0;32m      2\u001b[0m model\u001b[38;5;241m.\u001b[39meval()\n\u001b[0;32m      3\u001b[0m model\u001b[38;5;241m.\u001b[39mposition_embedding\u001b[38;5;241m.\u001b[39mdevice \u001b[38;5;241m=\u001b[39m \u001b[38;5;124m\"\u001b[39m\u001b[38;5;124mcpu\u001b[39m\u001b[38;5;124m\"\u001b[39m\n\u001b[1;32m----> 4\u001b[0m emb \u001b[38;5;241m=\u001b[39m \u001b[43mmodel\u001b[49m\u001b[38;5;241;43m.\u001b[39;49m\u001b[43mposition_embedding\u001b[49m\u001b[38;5;241;43m.\u001b[39;49m\u001b[43mgenerate\u001b[49m\u001b[43m(\u001b[49m\u001b[43mbatch_size\u001b[49m\u001b[43m \u001b[49m\u001b[38;5;241;43m=\u001b[39;49m\u001b[43m \u001b[49m\u001b[38;5;241;43m1\u001b[39;49m\u001b[43m \u001b[49m\u001b[43m,\u001b[49m\u001b[43m \u001b[49m\u001b[43mmaxlen\u001b[49m\u001b[43m \u001b[49m\u001b[38;5;241;43m=\u001b[39;49m\u001b[43m \u001b[49m\u001b[38;5;241;43m100\u001b[39;49m\u001b[43m)\u001b[49m[\u001b[38;5;241m0\u001b[39m]\n\u001b[0;32m      5\u001b[0m A \u001b[38;5;241m=\u001b[39m emb \u001b[38;5;241m@\u001b[39m emb\u001b[38;5;241m.\u001b[39mT  \n\u001b[0;32m      6\u001b[0m display(A)\n",
      "File \u001b[1;32me:\\experiment\\noCoT\\model.py:26\u001b[0m, in \u001b[0;36mPositionEmbedding.generate\u001b[1;34m(self, batch_size, maxlen)\u001b[0m\n\u001b[0;32m     25\u001b[0m \u001b[38;5;28;01mdef\u001b[39;00m \u001b[38;5;21mgenerate\u001b[39m(\u001b[38;5;28mself\u001b[39m,batch_size,maxlen):\n\u001b[1;32m---> 26\u001b[0m     \u001b[38;5;28;01mreturn\u001b[39;00m \u001b[38;5;28;43mself\u001b[39;49m\u001b[38;5;241;43m.\u001b[39;49m\u001b[43memb\u001b[49m\u001b[43m(\u001b[49m\u001b[43m  \u001b[49m\u001b[43mtorch\u001b[49m\u001b[38;5;241;43m.\u001b[39;49m\u001b[43marange\u001b[49m\u001b[43m(\u001b[49m\u001b[43mmaxlen\u001b[49m\u001b[43m,\u001b[49m\u001b[43mdevice\u001b[49m\u001b[38;5;241;43m=\u001b[39;49m\u001b[38;5;28;43mself\u001b[39;49m\u001b[38;5;241;43m.\u001b[39;49m\u001b[43memb\u001b[49m\u001b[38;5;241;43m.\u001b[39;49m\u001b[43mdevice\u001b[49m\u001b[43m)\u001b[49m\u001b[43m[\u001b[49m\u001b[38;5;28;43;01mNone\u001b[39;49;00m\u001b[43m]\u001b[49m\u001b[43m,\u001b[49m\u001b[43mbatch_size\u001b[49m\u001b[43m \u001b[49m\u001b[38;5;241;43m=\u001b[39;49m\u001b[43m \u001b[49m\u001b[43mbatch_size\u001b[49m\u001b[43m  \u001b[49m\u001b[43m)\u001b[49m\n",
      "File \u001b[1;32m~\\AppData\\Local\\Packages\\PythonSoftwareFoundation.Python.3.9_qbz5n2kfra8p0\\LocalCache\\local-packages\\Python39\\site-packages\\torch\\nn\\modules\\module.py:1518\u001b[0m, in \u001b[0;36mModule._wrapped_call_impl\u001b[1;34m(self, *args, **kwargs)\u001b[0m\n\u001b[0;32m   1516\u001b[0m     \u001b[38;5;28;01mreturn\u001b[39;00m \u001b[38;5;28mself\u001b[39m\u001b[38;5;241m.\u001b[39m_compiled_call_impl(\u001b[38;5;241m*\u001b[39margs, \u001b[38;5;241m*\u001b[39m\u001b[38;5;241m*\u001b[39mkwargs)  \u001b[38;5;66;03m# type: ignore[misc]\u001b[39;00m\n\u001b[0;32m   1517\u001b[0m \u001b[38;5;28;01melse\u001b[39;00m:\n\u001b[1;32m-> 1518\u001b[0m     \u001b[38;5;28;01mreturn\u001b[39;00m \u001b[38;5;28mself\u001b[39m\u001b[38;5;241m.\u001b[39m_call_impl(\u001b[38;5;241m*\u001b[39margs, \u001b[38;5;241m*\u001b[39m\u001b[38;5;241m*\u001b[39mkwargs)\n",
      "File \u001b[1;32m~\\AppData\\Local\\Packages\\PythonSoftwareFoundation.Python.3.9_qbz5n2kfra8p0\\LocalCache\\local-packages\\Python39\\site-packages\\torch\\nn\\modules\\module.py:1527\u001b[0m, in \u001b[0;36mModule._call_impl\u001b[1;34m(self, *args, **kwargs)\u001b[0m\n\u001b[0;32m   1522\u001b[0m \u001b[38;5;66;03m# If we don't have any hooks, we want to skip the rest of the logic in\u001b[39;00m\n\u001b[0;32m   1523\u001b[0m \u001b[38;5;66;03m# this function, and just call forward.\u001b[39;00m\n\u001b[0;32m   1524\u001b[0m \u001b[38;5;28;01mif\u001b[39;00m \u001b[38;5;129;01mnot\u001b[39;00m (\u001b[38;5;28mself\u001b[39m\u001b[38;5;241m.\u001b[39m_backward_hooks \u001b[38;5;129;01mor\u001b[39;00m \u001b[38;5;28mself\u001b[39m\u001b[38;5;241m.\u001b[39m_backward_pre_hooks \u001b[38;5;129;01mor\u001b[39;00m \u001b[38;5;28mself\u001b[39m\u001b[38;5;241m.\u001b[39m_forward_hooks \u001b[38;5;129;01mor\u001b[39;00m \u001b[38;5;28mself\u001b[39m\u001b[38;5;241m.\u001b[39m_forward_pre_hooks\n\u001b[0;32m   1525\u001b[0m         \u001b[38;5;129;01mor\u001b[39;00m _global_backward_pre_hooks \u001b[38;5;129;01mor\u001b[39;00m _global_backward_hooks\n\u001b[0;32m   1526\u001b[0m         \u001b[38;5;129;01mor\u001b[39;00m _global_forward_hooks \u001b[38;5;129;01mor\u001b[39;00m _global_forward_pre_hooks):\n\u001b[1;32m-> 1527\u001b[0m     \u001b[38;5;28;01mreturn\u001b[39;00m forward_call(\u001b[38;5;241m*\u001b[39margs, \u001b[38;5;241m*\u001b[39m\u001b[38;5;241m*\u001b[39mkwargs)\n\u001b[0;32m   1529\u001b[0m \u001b[38;5;28;01mtry\u001b[39;00m:\n\u001b[0;32m   1530\u001b[0m     result \u001b[38;5;241m=\u001b[39m \u001b[38;5;28;01mNone\u001b[39;00m\n",
      "File \u001b[1;32me:\\experiment\\noCoT\\model.py:18\u001b[0m, in \u001b[0;36mNumEmbedding.forward\u001b[1;34m(self, id, batch_size)\u001b[0m\n\u001b[0;32m     16\u001b[0m start \u001b[38;5;241m=\u001b[39m torch\u001b[38;5;241m.\u001b[39mrandint(\u001b[38;5;241m0\u001b[39m,\u001b[38;5;241m1000000000\u001b[39m,size\u001b[38;5;241m=\u001b[39m(batch_size,\u001b[38;5;241m1\u001b[39m),device\u001b[38;5;241m=\u001b[39m\u001b[38;5;28mself\u001b[39m\u001b[38;5;241m.\u001b[39mdevice)\n\u001b[0;32m     17\u001b[0m \u001b[38;5;28mid\u001b[39m \u001b[38;5;241m=\u001b[39m start \u001b[38;5;241m+\u001b[39m \u001b[38;5;28mid\u001b[39m\n\u001b[1;32m---> 18\u001b[0m pe_list \u001b[38;5;241m=\u001b[39m [ \u001b[38;5;28mself\u001b[39m\u001b[38;5;241m.\u001b[39membeddings[i](\u001b[38;5;28mid\u001b[39m \u001b[38;5;241m%\u001b[39m \u001b[38;5;28mself\u001b[39m\u001b[38;5;241m.\u001b[39mnumbers[i]) \u001b[38;5;28;01mfor\u001b[39;00m i \u001b[38;5;129;01min\u001b[39;00m \u001b[38;5;28mrange\u001b[39m(\u001b[38;5;28mlen\u001b[39m(\u001b[38;5;28mself\u001b[39m\u001b[38;5;241m.\u001b[39mnumbers)) ]\n\u001b[0;32m     19\u001b[0m \u001b[38;5;28;01mreturn\u001b[39;00m \u001b[38;5;28mself\u001b[39m\u001b[38;5;241m.\u001b[39mnorm(\u001b[38;5;28msum\u001b[39m(pe_list))\n",
      "File \u001b[1;32me:\\experiment\\noCoT\\model.py:18\u001b[0m, in \u001b[0;36m<listcomp>\u001b[1;34m(.0)\u001b[0m\n\u001b[0;32m     16\u001b[0m start \u001b[38;5;241m=\u001b[39m torch\u001b[38;5;241m.\u001b[39mrandint(\u001b[38;5;241m0\u001b[39m,\u001b[38;5;241m1000000000\u001b[39m,size\u001b[38;5;241m=\u001b[39m(batch_size,\u001b[38;5;241m1\u001b[39m),device\u001b[38;5;241m=\u001b[39m\u001b[38;5;28mself\u001b[39m\u001b[38;5;241m.\u001b[39mdevice)\n\u001b[0;32m     17\u001b[0m \u001b[38;5;28mid\u001b[39m \u001b[38;5;241m=\u001b[39m start \u001b[38;5;241m+\u001b[39m \u001b[38;5;28mid\u001b[39m\n\u001b[1;32m---> 18\u001b[0m pe_list \u001b[38;5;241m=\u001b[39m [ \u001b[38;5;28;43mself\u001b[39;49m\u001b[38;5;241;43m.\u001b[39;49m\u001b[43membeddings\u001b[49m\u001b[43m[\u001b[49m\u001b[43mi\u001b[49m\u001b[43m]\u001b[49m\u001b[43m(\u001b[49m\u001b[38;5;28;43mid\u001b[39;49m\u001b[43m \u001b[49m\u001b[38;5;241;43m%\u001b[39;49m\u001b[43m \u001b[49m\u001b[38;5;28;43mself\u001b[39;49m\u001b[38;5;241;43m.\u001b[39;49m\u001b[43mnumbers\u001b[49m\u001b[43m[\u001b[49m\u001b[43mi\u001b[49m\u001b[43m]\u001b[49m\u001b[43m)\u001b[49m \u001b[38;5;28;01mfor\u001b[39;00m i \u001b[38;5;129;01min\u001b[39;00m \u001b[38;5;28mrange\u001b[39m(\u001b[38;5;28mlen\u001b[39m(\u001b[38;5;28mself\u001b[39m\u001b[38;5;241m.\u001b[39mnumbers)) ]\n\u001b[0;32m     19\u001b[0m \u001b[38;5;28;01mreturn\u001b[39;00m \u001b[38;5;28mself\u001b[39m\u001b[38;5;241m.\u001b[39mnorm(\u001b[38;5;28msum\u001b[39m(pe_list))\n",
      "File \u001b[1;32m~\\AppData\\Local\\Packages\\PythonSoftwareFoundation.Python.3.9_qbz5n2kfra8p0\\LocalCache\\local-packages\\Python39\\site-packages\\torch\\nn\\modules\\module.py:1518\u001b[0m, in \u001b[0;36mModule._wrapped_call_impl\u001b[1;34m(self, *args, **kwargs)\u001b[0m\n\u001b[0;32m   1516\u001b[0m     \u001b[38;5;28;01mreturn\u001b[39;00m \u001b[38;5;28mself\u001b[39m\u001b[38;5;241m.\u001b[39m_compiled_call_impl(\u001b[38;5;241m*\u001b[39margs, \u001b[38;5;241m*\u001b[39m\u001b[38;5;241m*\u001b[39mkwargs)  \u001b[38;5;66;03m# type: ignore[misc]\u001b[39;00m\n\u001b[0;32m   1517\u001b[0m \u001b[38;5;28;01melse\u001b[39;00m:\n\u001b[1;32m-> 1518\u001b[0m     \u001b[38;5;28;01mreturn\u001b[39;00m \u001b[38;5;28mself\u001b[39m\u001b[38;5;241m.\u001b[39m_call_impl(\u001b[38;5;241m*\u001b[39margs, \u001b[38;5;241m*\u001b[39m\u001b[38;5;241m*\u001b[39mkwargs)\n",
      "File \u001b[1;32m~\\AppData\\Local\\Packages\\PythonSoftwareFoundation.Python.3.9_qbz5n2kfra8p0\\LocalCache\\local-packages\\Python39\\site-packages\\torch\\nn\\modules\\module.py:1527\u001b[0m, in \u001b[0;36mModule._call_impl\u001b[1;34m(self, *args, **kwargs)\u001b[0m\n\u001b[0;32m   1522\u001b[0m \u001b[38;5;66;03m# If we don't have any hooks, we want to skip the rest of the logic in\u001b[39;00m\n\u001b[0;32m   1523\u001b[0m \u001b[38;5;66;03m# this function, and just call forward.\u001b[39;00m\n\u001b[0;32m   1524\u001b[0m \u001b[38;5;28;01mif\u001b[39;00m \u001b[38;5;129;01mnot\u001b[39;00m (\u001b[38;5;28mself\u001b[39m\u001b[38;5;241m.\u001b[39m_backward_hooks \u001b[38;5;129;01mor\u001b[39;00m \u001b[38;5;28mself\u001b[39m\u001b[38;5;241m.\u001b[39m_backward_pre_hooks \u001b[38;5;129;01mor\u001b[39;00m \u001b[38;5;28mself\u001b[39m\u001b[38;5;241m.\u001b[39m_forward_hooks \u001b[38;5;129;01mor\u001b[39;00m \u001b[38;5;28mself\u001b[39m\u001b[38;5;241m.\u001b[39m_forward_pre_hooks\n\u001b[0;32m   1525\u001b[0m         \u001b[38;5;129;01mor\u001b[39;00m _global_backward_pre_hooks \u001b[38;5;129;01mor\u001b[39;00m _global_backward_hooks\n\u001b[0;32m   1526\u001b[0m         \u001b[38;5;129;01mor\u001b[39;00m _global_forward_hooks \u001b[38;5;129;01mor\u001b[39;00m _global_forward_pre_hooks):\n\u001b[1;32m-> 1527\u001b[0m     \u001b[38;5;28;01mreturn\u001b[39;00m forward_call(\u001b[38;5;241m*\u001b[39margs, \u001b[38;5;241m*\u001b[39m\u001b[38;5;241m*\u001b[39mkwargs)\n\u001b[0;32m   1529\u001b[0m \u001b[38;5;28;01mtry\u001b[39;00m:\n\u001b[0;32m   1530\u001b[0m     result \u001b[38;5;241m=\u001b[39m \u001b[38;5;28;01mNone\u001b[39;00m\n",
      "File \u001b[1;32m~\\AppData\\Local\\Packages\\PythonSoftwareFoundation.Python.3.9_qbz5n2kfra8p0\\LocalCache\\local-packages\\Python39\\site-packages\\torch\\nn\\modules\\sparse.py:162\u001b[0m, in \u001b[0;36mEmbedding.forward\u001b[1;34m(self, input)\u001b[0m\n\u001b[0;32m    161\u001b[0m \u001b[38;5;28;01mdef\u001b[39;00m \u001b[38;5;21mforward\u001b[39m(\u001b[38;5;28mself\u001b[39m, \u001b[38;5;28minput\u001b[39m: Tensor) \u001b[38;5;241m-\u001b[39m\u001b[38;5;241m>\u001b[39m Tensor:\n\u001b[1;32m--> 162\u001b[0m     \u001b[38;5;28;01mreturn\u001b[39;00m \u001b[43mF\u001b[49m\u001b[38;5;241;43m.\u001b[39;49m\u001b[43membedding\u001b[49m\u001b[43m(\u001b[49m\n\u001b[0;32m    163\u001b[0m \u001b[43m        \u001b[49m\u001b[38;5;28;43minput\u001b[39;49m\u001b[43m,\u001b[49m\u001b[43m \u001b[49m\u001b[38;5;28;43mself\u001b[39;49m\u001b[38;5;241;43m.\u001b[39;49m\u001b[43mweight\u001b[49m\u001b[43m,\u001b[49m\u001b[43m \u001b[49m\u001b[38;5;28;43mself\u001b[39;49m\u001b[38;5;241;43m.\u001b[39;49m\u001b[43mpadding_idx\u001b[49m\u001b[43m,\u001b[49m\u001b[43m \u001b[49m\u001b[38;5;28;43mself\u001b[39;49m\u001b[38;5;241;43m.\u001b[39;49m\u001b[43mmax_norm\u001b[49m\u001b[43m,\u001b[49m\n\u001b[0;32m    164\u001b[0m \u001b[43m        \u001b[49m\u001b[38;5;28;43mself\u001b[39;49m\u001b[38;5;241;43m.\u001b[39;49m\u001b[43mnorm_type\u001b[49m\u001b[43m,\u001b[49m\u001b[43m \u001b[49m\u001b[38;5;28;43mself\u001b[39;49m\u001b[38;5;241;43m.\u001b[39;49m\u001b[43mscale_grad_by_freq\u001b[49m\u001b[43m,\u001b[49m\u001b[43m \u001b[49m\u001b[38;5;28;43mself\u001b[39;49m\u001b[38;5;241;43m.\u001b[39;49m\u001b[43msparse\u001b[49m\u001b[43m)\u001b[49m\n",
      "File \u001b[1;32m~\\AppData\\Local\\Packages\\PythonSoftwareFoundation.Python.3.9_qbz5n2kfra8p0\\LocalCache\\local-packages\\Python39\\site-packages\\torch\\nn\\functional.py:2233\u001b[0m, in \u001b[0;36membedding\u001b[1;34m(input, weight, padding_idx, max_norm, norm_type, scale_grad_by_freq, sparse)\u001b[0m\n\u001b[0;32m   2227\u001b[0m     \u001b[38;5;66;03m# Note [embedding_renorm set_grad_enabled]\u001b[39;00m\n\u001b[0;32m   2228\u001b[0m     \u001b[38;5;66;03m# XXX: equivalent to\u001b[39;00m\n\u001b[0;32m   2229\u001b[0m     \u001b[38;5;66;03m# with torch.no_grad():\u001b[39;00m\n\u001b[0;32m   2230\u001b[0m     \u001b[38;5;66;03m#   torch.embedding_renorm_\u001b[39;00m\n\u001b[0;32m   2231\u001b[0m     \u001b[38;5;66;03m# remove once script supports set_grad_enabled\u001b[39;00m\n\u001b[0;32m   2232\u001b[0m     _no_grad_embedding_renorm_(weight, \u001b[38;5;28minput\u001b[39m, max_norm, norm_type)\n\u001b[1;32m-> 2233\u001b[0m \u001b[38;5;28;01mreturn\u001b[39;00m \u001b[43mtorch\u001b[49m\u001b[38;5;241;43m.\u001b[39;49m\u001b[43membedding\u001b[49m\u001b[43m(\u001b[49m\u001b[43mweight\u001b[49m\u001b[43m,\u001b[49m\u001b[43m \u001b[49m\u001b[38;5;28;43minput\u001b[39;49m\u001b[43m,\u001b[49m\u001b[43m \u001b[49m\u001b[43mpadding_idx\u001b[49m\u001b[43m,\u001b[49m\u001b[43m \u001b[49m\u001b[43mscale_grad_by_freq\u001b[49m\u001b[43m,\u001b[49m\u001b[43m \u001b[49m\u001b[43msparse\u001b[49m\u001b[43m)\u001b[49m\n",
      "\u001b[1;31mRuntimeError\u001b[0m: Expected all tensors to be on the same device, but found at least two devices, cpu and cuda:0! (when checking argument for argument index in method wrapper_CUDA__index_select)"
     ]
    }
   ],
   "source": [
    "model = read_model(f\"{args.output_dir}/epoch_100.pt\")\n",
    "model.eval()\n",
    "model.position_embedding.device = \"cpu\"\n",
    "emb = model.position_embedding.generate(batch_size = 1 , maxlen = 100)[0]\n",
    "A = emb @ emb.T  \n",
    "display(A)\n",
    "plt.imshow( A.detach(),cmap=\"hot\")\n",
    "plt.colorbar()\n"
   ]
  },
  {
   "cell_type": "code",
   "execution_count": null,
   "metadata": {},
   "outputs": [],
   "source": [
    "filename = f\"{args.output_dir}/epoch_{100}.pt\"\n",
    "model = read_model(filename)\n",
    "dataset = build_dataset(\"./data/test/len10.csv\",n=1000)\n",
    "model.position_embedding.emb.device = \"cpu\"\n",
    "model.segment_embedding.emb.device = \"cpu\""
   ]
  },
  {
   "cell_type": "code",
   "execution_count": null,
   "metadata": {},
   "outputs": [
    {
     "name": "stdout",
     "output_type": "stream",
     "text": [
      "False\n",
      "x :  (1-9+2+1/2)/(0/(6*2)-(4+1)*1)=(3+2+1/2)/(0/(6*2)-(4+1)*1)=(5+1/2)/(0/(6*2)-(4+1)*1)=(5+6)/(0/(6*2)-(4+1)*1)=0/(0/(6*2)-(\n",
      "y :                              (3+2+1/2)/(0/(6*2)-(4+1)*1)=(5+1/2)/(0/(6*2)-(4+1)*1)=(5+6)/(0/(6*2)-(4+1)*1)=0/(0/(6*2)-( \n",
      "pr:                              (3+2+1/2)/(0/(4*2)-(4+1)*1)=(5+1/2-/(0/(4*2)-(4+1)=1)=(5+6)/(0/(4*2)-(4+1)=1)=0/(0/(6*2)-( \n",
      "w :                                            w                   w     w         w             w         w                \n"
     ]
    }
   ],
   "source": [
    "\n",
    "show(model,dataset)"
   ]
  },
  {
   "cell_type": "code",
   "execution_count": null,
   "metadata": {},
   "outputs": [],
   "source": [
    "\n",
    "def test(model,dataset):\n",
    "    import random\n",
    "    idx = random.randint( 0,len(dataset)-1 )\n",
    "    model = model.cpu()\n",
    "    x , y   = dataset[idx]\n",
    "    x = x[None , :]\n",
    "    logits = model(x)[0]\n",
    "    pred = torch.argmax( logits ,dim = -1)\n",
    "    from my_token import to_sentence\n",
    "    pred[y==0] = 0\n",
    "    print(str((y==pred).all(0).item()))\n",
    "    print(\"x :\" , to_sentence(x[0]))\n",
    "    print(\"y :\" , to_sentence(y))\n",
    "    print(\"pr:\",to_sentence(pred))\n",
    "    print(\"w :\",\"\".join([ \" \" if b else \"w\"  for b in (y==pred).tolist()]))\n"
   ]
  },
  {
   "cell_type": "code",
   "execution_count": null,
   "metadata": {},
   "outputs": [
    {
     "ename": "TypeError",
     "evalue": "object of type 'function' has no len()",
     "output_type": "error",
     "traceback": [
      "\u001b[1;31m---------------------------------------------------------------------------\u001b[0m",
      "\u001b[1;31mTypeError\u001b[0m                                 Traceback (most recent call last)",
      "Cell \u001b[1;32mIn[15], line 1\u001b[0m\n\u001b[1;32m----> 1\u001b[0m \u001b[43mtest\u001b[49m\u001b[43m(\u001b[49m\u001b[43mmodel\u001b[49m\u001b[43m,\u001b[49m\u001b[43mdataset\u001b[49m\u001b[43m)\u001b[49m\n",
      "Cell \u001b[1;32mIn[14], line 3\u001b[0m, in \u001b[0;36mtest\u001b[1;34m(model, dataset)\u001b[0m\n\u001b[0;32m      1\u001b[0m \u001b[38;5;28;01mdef\u001b[39;00m \u001b[38;5;21mtest\u001b[39m(model,dataset):\n\u001b[0;32m      2\u001b[0m     \u001b[38;5;28;01mimport\u001b[39;00m \u001b[38;5;21;01mrandom\u001b[39;00m\n\u001b[1;32m----> 3\u001b[0m     idx \u001b[38;5;241m=\u001b[39m random\u001b[38;5;241m.\u001b[39mrandint( \u001b[38;5;241m0\u001b[39m,\u001b[38;5;28;43mlen\u001b[39;49m\u001b[43m(\u001b[49m\u001b[43mdataset\u001b[49m\u001b[43m)\u001b[49m\u001b[38;5;241m-\u001b[39m\u001b[38;5;241m1\u001b[39m )\n\u001b[0;32m      4\u001b[0m     model \u001b[38;5;241m=\u001b[39m model\u001b[38;5;241m.\u001b[39mcpu()\n\u001b[0;32m      5\u001b[0m     x , y   \u001b[38;5;241m=\u001b[39m dataset[idx]\n",
      "\u001b[1;31mTypeError\u001b[0m: object of type 'function' has no len()"
     ]
    }
   ],
   "source": [
    "test(model,dataset)"
   ]
  },
  {
   "cell_type": "markdown",
   "metadata": {},
   "source": []
  }
 ],
 "metadata": {
  "kernelspec": {
   "display_name": "Python 3",
   "language": "python",
   "name": "python3"
  },
  "language_info": {
   "codemirror_mode": {
    "name": "ipython",
    "version": 3
   },
   "file_extension": ".py",
   "mimetype": "text/x-python",
   "name": "python",
   "nbconvert_exporter": "python",
   "pygments_lexer": "ipython3",
   "version": "3.9.13"
  }
 },
 "nbformat": 4,
 "nbformat_minor": 2
}
